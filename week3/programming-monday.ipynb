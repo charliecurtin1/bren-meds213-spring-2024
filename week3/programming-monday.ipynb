{
 "cells": [
  {
   "cell_type": "code",
   "execution_count": 1,
   "id": "0c903d44-3222-43d2-9fbe-5e718458b63a",
   "metadata": {
    "tags": []
   },
   "outputs": [],
   "source": [
    "import duckdb"
   ]
  },
  {
   "cell_type": "code",
   "execution_count": 8,
   "id": "fa3836af-230b-4d5b-a35e-278698d8b51b",
   "metadata": {
    "tags": []
   },
   "outputs": [
    {
     "data": {
      "text/plain": [
       "'/Users/charlescurtin/bren-meds213-spring-2024/week3'"
      ]
     },
     "execution_count": 8,
     "metadata": {},
     "output_type": "execute_result"
    }
   ],
   "source": [
    "%pwd"
   ]
  },
  {
   "cell_type": "markdown",
   "id": "31c4f462-71f5-4eb8-8334-9c1a80d8a4d2",
   "metadata": {},
   "source": [
    "1. Create a connection and a cursor"
   ]
  },
  {
   "cell_type": "code",
   "execution_count": 2,
   "id": "812eeeda-7e18-4c20-ba19-e2b71c13fd8e",
   "metadata": {
    "tags": []
   },
   "outputs": [],
   "source": [
    "conn = duckdb.connect(\"database.db\")"
   ]
  },
  {
   "cell_type": "code",
   "execution_count": 3,
   "id": "c630f88d-96bd-4ddf-a1b8-aede1307715b",
   "metadata": {
    "tags": []
   },
   "outputs": [
    {
     "data": {
      "text/plain": [
       "<duckdb.duckdb.DuckDBPyConnection at 0x7fe5b41ae0f0>"
      ]
     },
     "execution_count": 3,
     "metadata": {},
     "output_type": "execute_result"
    }
   ],
   "source": [
    "conn"
   ]
  },
  {
   "cell_type": "code",
   "execution_count": 4,
   "id": "79e412e1-1f9c-4eb3-8105-a3185104215f",
   "metadata": {
    "tags": []
   },
   "outputs": [],
   "source": [
    "cur = conn.cursor()"
   ]
  },
  {
   "cell_type": "code",
   "execution_count": 16,
   "id": "ecbbdb83-e2c6-4088-aa81-8763c4ea5cf7",
   "metadata": {
    "tags": []
   },
   "outputs": [
    {
     "data": {
      "text/plain": [
       "<duckdb.duckdb.DuckDBPyConnection at 0x7f8f0869ddb0>"
      ]
     },
     "execution_count": 16,
     "metadata": {},
     "output_type": "execute_result"
    }
   ],
   "source": [
    "cur"
   ]
  },
  {
   "cell_type": "markdown",
   "id": "100b2b8c-d298-43ab-ba26-2d13cc959819",
   "metadata": {},
   "source": [
    "Now let's do something with our cursor"
   ]
  },
  {
   "cell_type": "code",
   "execution_count": 17,
   "id": "508e98ec-6a4a-4b21-8b9b-8dbb17a305a7",
   "metadata": {
    "tags": []
   },
   "outputs": [
    {
     "data": {
      "text/plain": [
       "<duckdb.duckdb.DuckDBPyConnection at 0x7f8f0869ddb0>"
      ]
     },
     "execution_count": 17,
     "metadata": {},
     "output_type": "execute_result"
    }
   ],
   "source": [
    "cur.execute(\"SELECT * FROM Site LIMIT 5\")"
   ]
  },
  {
   "cell_type": "code",
   "execution_count": 18,
   "id": "a07e38de-061e-497c-9ed2-eae900a957ca",
   "metadata": {
    "tags": []
   },
   "outputs": [
    {
     "data": {
      "text/plain": [
       "[('barr',\n",
       "  'Barrow',\n",
       "  'Alaska, USA',\n",
       "  71.30000305175781,\n",
       "  -156.60000610351562,\n",
       "  220.39999389648438),\n",
       " ('burn',\n",
       "  'Burntpoint Creek',\n",
       "  'Ontario, Canada',\n",
       "  55.20000076293945,\n",
       "  -84.30000305175781,\n",
       "  63.0),\n",
       " ('bylo',\n",
       "  'Bylot Island',\n",
       "  'Nunavut, Canada',\n",
       "  73.19999694824219,\n",
       "  -80.0,\n",
       "  723.5999755859375),\n",
       " ('cakr',\n",
       "  'Cape Krusenstern',\n",
       "  'Alaska, USA',\n",
       "  67.0999984741211,\n",
       "  -163.5,\n",
       "  54.099998474121094),\n",
       " ('cari',\n",
       "  'Canning River Delta',\n",
       "  'Alaska, USA',\n",
       "  70.0999984741211,\n",
       "  -145.8000030517578,\n",
       "  722.0)]"
      ]
     },
     "execution_count": 18,
     "metadata": {},
     "output_type": "execute_result"
    }
   ],
   "source": [
    "cur.fetchall()"
   ]
  },
  {
   "cell_type": "code",
   "execution_count": 19,
   "id": "93c07bb1-5045-467d-8d4c-0d0d10237520",
   "metadata": {
    "tags": []
   },
   "outputs": [
    {
     "data": {
      "text/plain": [
       "['14HPE1',\n",
       " '11eaba',\n",
       " '11eabaagc01',\n",
       " '11eabaagv01',\n",
       " '11eababbc02',\n",
       " '11eababsv01',\n",
       " '11eabaduh01',\n",
       " '11eabaduv01',\n",
       " '11eabarpc01',\n",
       " '11eabarpc02']"
      ]
     },
     "execution_count": 19,
     "metadata": {},
     "output_type": "execute_result"
    }
   ],
   "source": [
    "# things are returned in a tuple, even if they are single values\n",
    "cur.execute(\"SELECT Nest_ID FROM Bird_nests LIMIT 10\")\n",
    "\n",
    "# select the single value from each tuple\n",
    "[t[0] for t in cur.fetchall()]"
   ]
  },
  {
   "cell_type": "markdown",
   "id": "5f12a101-5543-49db-b774-aae102d0eefc",
   "metadata": {},
   "source": [
    "2. Get the one result, or the next result"
   ]
  },
  {
   "cell_type": "code",
   "execution_count": 20,
   "id": "5adb5084-abfa-4e04-a968-4bf6ff1d3cd8",
   "metadata": {
    "tags": []
   },
   "outputs": [
    {
     "data": {
      "text/plain": [
       "[(1547,)]"
      ]
     },
     "execution_count": 20,
     "metadata": {},
     "output_type": "execute_result"
    }
   ],
   "source": [
    "cur.execute(\"SELECT COUNT(*) FROM Bird_nests\")\n",
    "cur.fetchall()"
   ]
  },
  {
   "cell_type": "code",
   "execution_count": 21,
   "id": "6f095244-ec39-4348-8096-eb327a38d444",
   "metadata": {
    "tags": []
   },
   "outputs": [
    {
     "data": {
      "text/plain": [
       "(1547,)"
      ]
     },
     "execution_count": 21,
     "metadata": {},
     "output_type": "execute_result"
    }
   ],
   "source": [
    "cur.execute(\"SELECT COUNT(*) FROM Bird_nests\")\n",
    "cur.fetchone()"
   ]
  },
  {
   "cell_type": "code",
   "execution_count": 22,
   "id": "4f6cad27-dabd-4101-b8b9-7a0db317642a",
   "metadata": {
    "tags": []
   },
   "outputs": [
    {
     "data": {
      "text/plain": [
       "1547"
      ]
     },
     "execution_count": 22,
     "metadata": {},
     "output_type": "execute_result"
    }
   ],
   "source": [
    "# extract the element from the tuple\n",
    "cur.execute(\"SELECT COUNT(*) FROM Bird_nests\")\n",
    "cur.fetchone()[0]"
   ]
  },
  {
   "cell_type": "markdown",
   "id": "1efa2561-acbd-4f8f-9ca1-3d6ead5b06d5",
   "metadata": {},
   "source": [
    "3. Using an iterator- but duckdb doesnt support iterators"
   ]
  },
  {
   "cell_type": "code",
   "execution_count": 23,
   "id": "ebf00d36-1bfa-4b73-b6e7-f3852de7cc41",
   "metadata": {
    "tags": []
   },
   "outputs": [
    {
     "name": "stdout",
     "output_type": "stream",
     "text": [
      "got nest ID 14HPE1\n",
      "got nest ID 11eaba\n",
      "got nest ID 11eabaagc01\n",
      "got nest ID 11eabaagv01\n",
      "got nest ID 11eababbc02\n",
      "got nest ID 11eababsv01\n",
      "got nest ID 11eabaduh01\n",
      "got nest ID 11eabaduv01\n",
      "got nest ID 11eabarpc01\n",
      "got nest ID 11eabarpc02\n"
     ]
    }
   ],
   "source": [
    "cur.execute(\"SELECT Nest_ID FROM Bird_nests LIMIT 10\")\n",
    "while True:\n",
    "    row = cur.fetchone()\n",
    "    if row == None:\n",
    "        break\n",
    "        # do something with row\n",
    "    print(f\"got nest ID {row[0]}\")"
   ]
  },
  {
   "cell_type": "markdown",
   "id": "2ea5c746-130d-4979-bcdc-814c3a010697",
   "metadata": {},
   "source": [
    "another version of things- one string that spans multiple lines"
   ]
  },
  {
   "cell_type": "code",
   "execution_count": 24,
   "id": "1bad8b3c-37f8-48ec-9d7e-6241008cc95c",
   "metadata": {
    "tags": []
   },
   "outputs": [
    {
     "data": {
      "text/plain": [
       "<duckdb.duckdb.DuckDBPyConnection at 0x7f8f0869ddb0>"
      ]
     },
     "execution_count": 24,
     "metadata": {},
     "output_type": "execute_result"
    }
   ],
   "source": [
    "# triple double quote- in python a string can't span multiple lines, but it lets you do it with the triple double quote\n",
    "cur.execute(\"\"\"\n",
    "    CREATE TEMP TABLE temp_table AS\n",
    "    SELECT * FROM Bird_nests LIMIT 10\n",
    "\"\"\")"
   ]
  },
  {
   "cell_type": "code",
   "execution_count": 26,
   "id": "c567d487-5949-4bba-b0a2-fc98d98fd5b7",
   "metadata": {
    "tags": []
   },
   "outputs": [
    {
     "data": {
      "text/plain": [
       "<duckdb.duckdb.DuckDBPyConnection at 0x7f8f0869ddb0>"
      ]
     },
     "execution_count": 26,
     "metadata": {},
     "output_type": "execute_result"
    }
   ],
   "source": [
    "cur.execute(\"SELECT * FROM temp_table\")"
   ]
  },
  {
   "cell_type": "code",
   "execution_count": 27,
   "id": "d99c9d98-8709-4243-be65-99e0a2d09c37",
   "metadata": {
    "tags": []
   },
   "outputs": [
    {
     "data": {
      "text/plain": [
       "[('b14.6',\n",
       "  2014,\n",
       "  'chur',\n",
       "  '14HPE1',\n",
       "  'sepl',\n",
       "  'vloverti',\n",
       "  datetime.date(2014, 6, 14),\n",
       "  None,\n",
       "  3,\n",
       "  None,\n",
       "  None),\n",
       " ('b11.7',\n",
       "  2011,\n",
       "  'eaba',\n",
       "  '11eaba',\n",
       "  'wrsa',\n",
       "  'bhill',\n",
       "  datetime.date(2011, 7, 10),\n",
       "  'searcher',\n",
       "  4,\n",
       "  None,\n",
       "  None),\n",
       " ('b11.6',\n",
       "  2011,\n",
       "  'eaba',\n",
       "  '11eabaagc01',\n",
       "  'amgp',\n",
       "  'dkessler',\n",
       "  datetime.date(2011, 6, 24),\n",
       "  'searcher',\n",
       "  4,\n",
       "  6.0,\n",
       "  'float'),\n",
       " ('b11.6',\n",
       "  2011,\n",
       "  'eaba',\n",
       "  '11eabaagv01',\n",
       "  'amgp',\n",
       "  'dkessler',\n",
       "  datetime.date(2011, 6, 25),\n",
       "  'searcher',\n",
       "  3,\n",
       "  3.0,\n",
       "  'float'),\n",
       " ('b11.6',\n",
       "  2011,\n",
       "  'eaba',\n",
       "  '11eababbc02',\n",
       "  'bbpl',\n",
       "  'dkessler',\n",
       "  datetime.date(2011, 6, 24),\n",
       "  'searcher',\n",
       "  4,\n",
       "  4.0,\n",
       "  'float'),\n",
       " ('b11.7',\n",
       "  2011,\n",
       "  'eaba',\n",
       "  '11eababsv01',\n",
       "  'wrsa',\n",
       "  'bhill',\n",
       "  datetime.date(2011, 7, 7),\n",
       "  'searcher',\n",
       "  4,\n",
       "  2.0,\n",
       "  'float'),\n",
       " ('b11.6',\n",
       "  2011,\n",
       "  'eaba',\n",
       "  '11eabaduh01',\n",
       "  'dunl',\n",
       "  'dkessler',\n",
       "  datetime.date(2011, 6, 28),\n",
       "  'searcher',\n",
       "  3,\n",
       "  2.0,\n",
       "  'float'),\n",
       " ('b11.6',\n",
       "  2011,\n",
       "  'eaba',\n",
       "  '11eabaduv01',\n",
       "  'dunl',\n",
       "  'dkessler',\n",
       "  datetime.date(2011, 6, 29),\n",
       "  'searcher',\n",
       "  4,\n",
       "  5.0,\n",
       "  'float'),\n",
       " ('b11.7',\n",
       "  2011,\n",
       "  'eaba',\n",
       "  '11eabarpc01',\n",
       "  'reph',\n",
       "  'bhill',\n",
       "  datetime.date(2011, 7, 8),\n",
       "  'searcher',\n",
       "  4,\n",
       "  4.0,\n",
       "  'float'),\n",
       " ('b11.7',\n",
       "  2011,\n",
       "  'eaba',\n",
       "  '11eabarpc02',\n",
       "  'reph',\n",
       "  'bhill',\n",
       "  datetime.date(2011, 7, 8),\n",
       "  'searcher',\n",
       "  3,\n",
       "  4.0,\n",
       "  'float')]"
      ]
     },
     "execution_count": 27,
     "metadata": {},
     "output_type": "execute_result"
    }
   ],
   "source": [
    "cur.fetchall()"
   ]
  },
  {
   "cell_type": "markdown",
   "id": "cf636988-a866-41b9-a9c4-0ba10f30ed58",
   "metadata": {},
   "source": [
    "- A note on fragility\n",
    "\n",
    "For example:\n",
    "\n",
    "INSERT INTO Site VALUES (\"abcd\", \"foo\", 35.7, -119.5)\n",
    "- the order of these values must be in the same order as the columns they're being inserted into\n",
    "\n",
    "- A less fragile and more explicit way:\n",
    "\n",
    "INSERT INTO Site (Code, Site_name, Latitude, Longtitude)\n",
    "     VALUES (\"abcd\", \"foo\", 35.7, -119.5)\n",
    "     \n",
    "- in the same vein: SELECT * is fragile\n",
    "- a  better more robust way of coding the same thing:"
   ]
  },
  {
   "cell_type": "code",
   "execution_count": 29,
   "id": "f9e75f39-aae9-4ab3-975d-065543d9524d",
   "metadata": {
    "tags": []
   },
   "outputs": [
    {
     "data": {
      "text/plain": [
       "[('Barrow', 'barr', 71.30000305175781, -156.60000610351562),\n",
       " ('Burntpoint Creek', 'burn', 55.20000076293945, -84.30000305175781),\n",
       " ('Bylot Island', 'bylo', 73.19999694824219, -80.0)]"
      ]
     },
     "execution_count": 29,
     "metadata": {},
     "output_type": "execute_result"
    }
   ],
   "source": [
    "cur.execute(\"SELECT Site_name, Code, Latitude, Longitude, FROM Site LIMIT 3\")\n",
    "cur.fetchall()"
   ]
  },
  {
   "cell_type": "markdown",
   "id": "b602616a-dfdc-4703-ba48-82e71bc3f74e",
   "metadata": {},
   "source": [
    "## how many nests do we have for each species?\n",
    "\n",
    "Approach: get all species. Then execute a count query for each species"
   ]
  },
  {
   "cell_type": "code",
   "execution_count": 33,
   "id": "a6af7d8c-fe03-424b-8bc0-f8a53c1cb6c3",
   "metadata": {
    "tags": []
   },
   "outputs": [
    {
     "name": "stdout",
     "output_type": "stream",
     "text": [
      "Species agsq has 0 nests\n",
      "Species amcr has 0 nests\n",
      "Species amgp has 29 nests\n"
     ]
    }
   ],
   "source": [
    "query = \"\"\"\n",
    "    SELECT COUNT(*) FROM Bird_nests\n",
    "    WHERE Species = '%s'\n",
    "\"\"\"\n",
    "cur.execute(\"SELECT Code FROM Species LIMIT 3\")\n",
    "for row in cur.fetchall():\n",
    "    code = row[0]\n",
    "    prepared_query = query % code\n",
    "    #print(prepared_query)\n",
    "    cur2 = conn.cursor()\n",
    "    cur2.execute(prepared_query)\n",
    "    print(f\"Species {code} has {cur2.fetchone()[0]} nests\")\n",
    "    cur2.close()"
   ]
  },
  {
   "cell_type": "markdown",
   "id": "51b3fa63-2540-4f9f-89ea-c2079d0e81d2",
   "metadata": {},
   "source": [
    "Another way to do it:"
   ]
  },
  {
   "cell_type": "code",
   "execution_count": 34,
   "id": "88c40111-c621-47a0-8abd-e0ceba4497d2",
   "metadata": {
    "tags": []
   },
   "outputs": [
    {
     "name": "stdout",
     "output_type": "stream",
     "text": [
      "Species agsq has 0 nests\n",
      "Species amcr has 0 nests\n",
      "Species amgp has 29 nests\n"
     ]
    }
   ],
   "source": [
    "query = \"\"\"\n",
    "    SELECT COUNT(*) FROM Bird_nests\n",
    "    WHERE Species = ?\n",
    "\"\"\"\n",
    "cur.execute(\"SELECT Code FROM Species LIMIT 3\")\n",
    "for row in cur.fetchall():\n",
    "    code = row[0]\n",
    "    #prepared_query = query % code\n",
    "    #print(prepared_query)\n",
    "    cur2 = conn.cursor()\n",
    "    cur2.execute(query, [code])\n",
    "    print(f\"Species {code} has {cur2.fetchone()[0]} nests\")\n",
    "    cur2.close()"
   ]
  },
  {
   "cell_type": "markdown",
   "id": "615ec348-ffda-40ca-b502-ff248f38d97d",
   "metadata": {},
   "source": [
    "Let's illustrate the danger of the first version of doing it"
   ]
  },
  {
   "cell_type": "code",
   "execution_count": 35,
   "id": "b7798be2-2e9e-4c95-85fc-5ef40a2675ea",
   "metadata": {
    "tags": []
   },
   "outputs": [
    {
     "data": {
      "text/plain": [
       "<duckdb.duckdb.DuckDBPyConnection at 0x7f8f0869ddb0>"
      ]
     },
     "execution_count": 35,
     "metadata": {},
     "output_type": "execute_result"
    }
   ],
   "source": [
    "abbrev = \"TS\"\n",
    "name = \"Taylor Swift\"\n",
    "cur.execute(\"\"\"\n",
    "    INSERT INTO Personnel (Abbreviation, Name)\n",
    "    VALUES ('%s', '%s')\n",
    "    \"\"\" % (abbrev, name)\n",
    "           )"
   ]
  },
  {
   "cell_type": "code",
   "execution_count": 36,
   "id": "54231551-8af8-482e-9744-0c7917a87507",
   "metadata": {
    "tags": []
   },
   "outputs": [
    {
     "data": {
      "text/plain": [
       "[('emagnuson', 'Emily Magnuson'),\n",
       " ('mcorrell', 'Maureen Correll'),\n",
       " ('TS', 'Taylor Swift')]"
      ]
     },
     "execution_count": 36,
     "metadata": {},
     "output_type": "execute_result"
    }
   ],
   "source": [
    "cur.execute(\"SELECT * FROM Personnel\")\n",
    "cur.fetchall()[-3:]"
   ]
  },
  {
   "cell_type": "code",
   "execution_count": 37,
   "id": "28142cb6-fd54-41eb-b899-db3df51d5262",
   "metadata": {
    "tags": []
   },
   "outputs": [
    {
     "data": {
      "text/plain": [
       "<duckdb.duckdb.DuckDBPyConnection at 0x7f8f0869ddb0>"
      ]
     },
     "execution_count": 37,
     "metadata": {},
     "output_type": "execute_result"
    }
   ],
   "source": [
    "abbrev = \"CO\"\n",
    "name = \"Conan O'Brian\"\n",
    "cur.execute(\"\"\"\n",
    "    INSERT INTO Personnel (Abbreviation, Name)\n",
    "    VALUES (?, ?)\n",
    "    \"\"\",\n",
    "            [abbrev, name])"
   ]
  },
  {
   "cell_type": "code",
   "execution_count": 38,
   "id": "80f5ff21-e5a7-4018-a97a-2797972cfab9",
   "metadata": {
    "tags": []
   },
   "outputs": [
    {
     "data": {
      "text/plain": [
       "[('mcorrell', 'Maureen Correll'),\n",
       " ('TS', 'Taylor Swift'),\n",
       " ('CO', \"Conan O'Brian\")]"
      ]
     },
     "execution_count": 38,
     "metadata": {},
     "output_type": "execute_result"
    }
   ],
   "source": [
    "cur.execute(\"SELECT * FROM Personnel\")\n",
    "cur.fetchall()[-3:]"
   ]
  },
  {
   "cell_type": "markdown",
   "id": "79f08d3b-495b-4cb8-be67-8318fe0dfcb6",
   "metadata": {},
   "source": [
    "### Wednesday, May 8"
   ]
  },
  {
   "cell_type": "code",
   "execution_count": 5,
   "id": "a89e63c7-88ae-488d-964e-e0fec071e36b",
   "metadata": {
    "tags": []
   },
   "outputs": [
    {
     "data": {
      "text/plain": [
       "[(2005,\n",
       "  'bylo',\n",
       "  'lmckinnon',\n",
       "  datetime.date(2005, 6, 1),\n",
       "  datetime.date(2005, 8, 5)),\n",
       " (2005,\n",
       "  'bylo',\n",
       "  'blalibert',\n",
       "  datetime.date(2005, 6, 1),\n",
       "  datetime.date(2005, 8, 20)),\n",
       " (2006,\n",
       "  'bylo',\n",
       "  'lmckinnon',\n",
       "  datetime.date(2006, 6, 1),\n",
       "  datetime.date(2006, 8, 5))]"
      ]
     },
     "execution_count": 5,
     "metadata": {},
     "output_type": "execute_result"
    }
   ],
   "source": [
    "cur.execute(\"SELECT * FROM Camp_assignment LIMIT 3\")\n",
    "cur.fetchall()"
   ]
  },
  {
   "cell_type": "code",
   "execution_count": 6,
   "id": "39915e25-974b-45e5-ab9d-83bc7c56c5c7",
   "metadata": {
    "tags": []
   },
   "outputs": [
    {
     "data": {
      "text/plain": [
       "(2005,\n",
       " 'bylo',\n",
       " 'lmckinnon',\n",
       " datetime.date(2005, 6, 1),\n",
       " datetime.date(2005, 8, 5))"
      ]
     },
     "execution_count": 6,
     "metadata": {},
     "output_type": "execute_result"
    }
   ],
   "source": [
    "cur.execute(\"SELECT * FROM Camp_assignment LIMIT 3\")\n",
    "cur.fetchone()"
   ]
  },
  {
   "cell_type": "markdown",
   "id": "a75bf7a7-ffd3-4327-9f1d-ea777bbe67f1",
   "metadata": {},
   "source": [
    "#### creating a parameterized query"
   ]
  },
  {
   "cell_type": "code",
   "execution_count": 9,
   "id": "820d88fc-bacc-4b27-a745-565f4be06ced",
   "metadata": {
    "tags": []
   },
   "outputs": [
    {
     "name": "stdout",
     "output_type": "stream",
     "text": [
      "Observer mballvanzee gathered 2 nests\n",
      "Observer dkessler gathered 69 nests\n",
      "Observer bharrington gathered 245 nests\n",
      "Observer lmckinnon gathered 249 nests\n",
      "Observer dhodkinson gathered 15 nests\n",
      "Observer mbwunder gathered 4 nests\n",
      "Observer None gathered 0 nests\n",
      "Observer kkalasz gathered 12 nests\n",
      "Observer bhill gathered 55 nests\n",
      "Observer ssaalfeld gathered 13 nests\n",
      "Observer wenglish gathered 18 nests\n",
      "Observer lworing gathered 14 nests\n",
      "Observer vloverti gathered 54 nests\n",
      "Observer rlanctot gathered 40 nests\n",
      "Observer abankert gathered 17 nests\n",
      "Observer amould gathered 42 nests\n",
      "Observer bkaselow gathered 4 nests\n",
      "Observer jflamarre gathered 43 nests\n",
      "Observer edastrous gathered 38 nests\n",
      "Observer jzamuido gathered 11 nests\n"
     ]
    }
   ],
   "source": [
    "inner_query = \"\"\"\n",
    "    SELECT COUNT (*) AS num_nests\n",
    "    FROM Bird_nests\n",
    "    WHERE Observer = ?\n",
    "\"\"\"\n",
    "\n",
    "# one query, we get the distinct observers from bird nests\n",
    "outer_query = \"\"\"\n",
    "    SELECT DISTINCT Observer FROM Bird_nests\n",
    "\"\"\"\n",
    "\n",
    "# we iterate over the names of observers, then cur2 lets us conduct the inner query for each of those names \n",
    "for row in cur.execute(outer_query).fetchall():\n",
    "    observer = row[0]\n",
    "    cur2 = conn.cursor()\n",
    "    cur2.execute(inner_query, [observer])\n",
    "    print(f\"Observer {observer} gathered {cur2.fetchone()[0]} nests\")"
   ]
  },
  {
   "cell_type": "markdown",
   "id": "66851611-743f-4587-8854-62645f54596e",
   "metadata": {},
   "source": [
    "## Pandas\n",
    "\n",
    "You can use pandas commands to import as a dataframe you can use directly."
   ]
  },
  {
   "cell_type": "code",
   "execution_count": 10,
   "id": "a6caf679-0bb8-4a7d-95c4-5cd56a982eae",
   "metadata": {
    "tags": []
   },
   "outputs": [],
   "source": [
    "import pandas as pd"
   ]
  },
  {
   "cell_type": "code",
   "execution_count": 11,
   "id": "bba2d351-1df6-4dda-a386-4385d6c1d395",
   "metadata": {
    "tags": []
   },
   "outputs": [],
   "source": [
    "df = pd.read_sql(\"SELECT * FROM Site\", conn)"
   ]
  },
  {
   "cell_type": "code",
   "execution_count": 12,
   "id": "60576fc4-d54a-4f6a-b2f1-48690c261d4b",
   "metadata": {
    "tags": []
   },
   "outputs": [
    {
     "data": {
      "text/html": [
       "<div>\n",
       "<style scoped>\n",
       "    .dataframe tbody tr th:only-of-type {\n",
       "        vertical-align: middle;\n",
       "    }\n",
       "\n",
       "    .dataframe tbody tr th {\n",
       "        vertical-align: top;\n",
       "    }\n",
       "\n",
       "    .dataframe thead th {\n",
       "        text-align: right;\n",
       "    }\n",
       "</style>\n",
       "<table border=\"1\" class=\"dataframe\">\n",
       "  <thead>\n",
       "    <tr style=\"text-align: right;\">\n",
       "      <th></th>\n",
       "      <th>Code</th>\n",
       "      <th>Site_name</th>\n",
       "      <th>Location</th>\n",
       "      <th>Latitude</th>\n",
       "      <th>Longitude</th>\n",
       "      <th>Area</th>\n",
       "    </tr>\n",
       "  </thead>\n",
       "  <tbody>\n",
       "    <tr>\n",
       "      <th>0</th>\n",
       "      <td>barr</td>\n",
       "      <td>Barrow</td>\n",
       "      <td>Alaska, USA</td>\n",
       "      <td>71.300003</td>\n",
       "      <td>-156.600006</td>\n",
       "      <td>220.399994</td>\n",
       "    </tr>\n",
       "    <tr>\n",
       "      <th>1</th>\n",
       "      <td>burn</td>\n",
       "      <td>Burntpoint Creek</td>\n",
       "      <td>Ontario, Canada</td>\n",
       "      <td>55.200001</td>\n",
       "      <td>-84.300003</td>\n",
       "      <td>63.000000</td>\n",
       "    </tr>\n",
       "    <tr>\n",
       "      <th>2</th>\n",
       "      <td>bylo</td>\n",
       "      <td>Bylot Island</td>\n",
       "      <td>Nunavut, Canada</td>\n",
       "      <td>73.199997</td>\n",
       "      <td>-80.000000</td>\n",
       "      <td>723.599976</td>\n",
       "    </tr>\n",
       "    <tr>\n",
       "      <th>3</th>\n",
       "      <td>cakr</td>\n",
       "      <td>Cape Krusenstern</td>\n",
       "      <td>Alaska, USA</td>\n",
       "      <td>67.099998</td>\n",
       "      <td>-163.500000</td>\n",
       "      <td>54.099998</td>\n",
       "    </tr>\n",
       "    <tr>\n",
       "      <th>4</th>\n",
       "      <td>cari</td>\n",
       "      <td>Canning River Delta</td>\n",
       "      <td>Alaska, USA</td>\n",
       "      <td>70.099998</td>\n",
       "      <td>-145.800003</td>\n",
       "      <td>722.000000</td>\n",
       "    </tr>\n",
       "    <tr>\n",
       "      <th>5</th>\n",
       "      <td>chau</td>\n",
       "      <td>Chaun River Delta</td>\n",
       "      <td>Chukotka, Russia</td>\n",
       "      <td>68.800003</td>\n",
       "      <td>170.600006</td>\n",
       "      <td>248.199997</td>\n",
       "    </tr>\n",
       "    <tr>\n",
       "      <th>6</th>\n",
       "      <td>chur</td>\n",
       "      <td>Churchill</td>\n",
       "      <td>Manitoba, Canada</td>\n",
       "      <td>58.700001</td>\n",
       "      <td>-93.800003</td>\n",
       "      <td>866.900024</td>\n",
       "    </tr>\n",
       "    <tr>\n",
       "      <th>7</th>\n",
       "      <td>coat</td>\n",
       "      <td>Coats Island</td>\n",
       "      <td>Nunavut, Canada</td>\n",
       "      <td>62.900002</td>\n",
       "      <td>-82.500000</td>\n",
       "      <td>1239.099976</td>\n",
       "    </tr>\n",
       "    <tr>\n",
       "      <th>8</th>\n",
       "      <td>colv</td>\n",
       "      <td>Colville River Delta</td>\n",
       "      <td>Alaska, USA</td>\n",
       "      <td>70.400002</td>\n",
       "      <td>-150.699997</td>\n",
       "      <td>324.799988</td>\n",
       "    </tr>\n",
       "    <tr>\n",
       "      <th>9</th>\n",
       "      <td>eaba</td>\n",
       "      <td>East Bay</td>\n",
       "      <td>Nunavut, Canada</td>\n",
       "      <td>64.000000</td>\n",
       "      <td>-81.699997</td>\n",
       "      <td>1205.500000</td>\n",
       "    </tr>\n",
       "    <tr>\n",
       "      <th>10</th>\n",
       "      <td>iglo</td>\n",
       "      <td>Igloolik</td>\n",
       "      <td>Nunavut, Canada</td>\n",
       "      <td>69.400002</td>\n",
       "      <td>-81.599998</td>\n",
       "      <td>59.799999</td>\n",
       "    </tr>\n",
       "    <tr>\n",
       "      <th>11</th>\n",
       "      <td>ikpi</td>\n",
       "      <td>Ikpikpuk</td>\n",
       "      <td>Alaska, USA</td>\n",
       "      <td>70.599998</td>\n",
       "      <td>-154.699997</td>\n",
       "      <td>174.100006</td>\n",
       "    </tr>\n",
       "    <tr>\n",
       "      <th>12</th>\n",
       "      <td>lkri</td>\n",
       "      <td>Lower Khatanga River</td>\n",
       "      <td>Krasnoyarsk, Russia</td>\n",
       "      <td>72.900002</td>\n",
       "      <td>106.099998</td>\n",
       "      <td>270.899994</td>\n",
       "    </tr>\n",
       "    <tr>\n",
       "      <th>13</th>\n",
       "      <td>made</td>\n",
       "      <td>Mackenzie River Delta</td>\n",
       "      <td>Northwest Territories, Canada</td>\n",
       "      <td>69.400002</td>\n",
       "      <td>-135.000000</td>\n",
       "      <td>667.299988</td>\n",
       "    </tr>\n",
       "    <tr>\n",
       "      <th>14</th>\n",
       "      <td>nome</td>\n",
       "      <td>Nome</td>\n",
       "      <td>Alaska, USA</td>\n",
       "      <td>64.400002</td>\n",
       "      <td>-164.899994</td>\n",
       "      <td>90.099998</td>\n",
       "    </tr>\n",
       "    <tr>\n",
       "      <th>15</th>\n",
       "      <td>prba</td>\n",
       "      <td>Prudhoe Bay</td>\n",
       "      <td>Alaska, USA</td>\n",
       "      <td>70.300003</td>\n",
       "      <td>-148.600006</td>\n",
       "      <td>120.000000</td>\n",
       "    </tr>\n",
       "  </tbody>\n",
       "</table>\n",
       "</div>"
      ],
      "text/plain": [
       "    Code              Site_name                       Location   Latitude  \\\n",
       "0   barr                 Barrow                    Alaska, USA  71.300003   \n",
       "1   burn       Burntpoint Creek                Ontario, Canada  55.200001   \n",
       "2   bylo           Bylot Island                Nunavut, Canada  73.199997   \n",
       "3   cakr       Cape Krusenstern                    Alaska, USA  67.099998   \n",
       "4   cari    Canning River Delta                    Alaska, USA  70.099998   \n",
       "5   chau      Chaun River Delta               Chukotka, Russia  68.800003   \n",
       "6   chur              Churchill               Manitoba, Canada  58.700001   \n",
       "7   coat           Coats Island                Nunavut, Canada  62.900002   \n",
       "8   colv   Colville River Delta                    Alaska, USA  70.400002   \n",
       "9   eaba               East Bay                Nunavut, Canada  64.000000   \n",
       "10  iglo               Igloolik                Nunavut, Canada  69.400002   \n",
       "11  ikpi               Ikpikpuk                    Alaska, USA  70.599998   \n",
       "12  lkri   Lower Khatanga River            Krasnoyarsk, Russia  72.900002   \n",
       "13  made  Mackenzie River Delta  Northwest Territories, Canada  69.400002   \n",
       "14  nome                   Nome                    Alaska, USA  64.400002   \n",
       "15  prba            Prudhoe Bay                    Alaska, USA  70.300003   \n",
       "\n",
       "     Longitude         Area  \n",
       "0  -156.600006   220.399994  \n",
       "1   -84.300003    63.000000  \n",
       "2   -80.000000   723.599976  \n",
       "3  -163.500000    54.099998  \n",
       "4  -145.800003   722.000000  \n",
       "5   170.600006   248.199997  \n",
       "6   -93.800003   866.900024  \n",
       "7   -82.500000  1239.099976  \n",
       "8  -150.699997   324.799988  \n",
       "9   -81.699997  1205.500000  \n",
       "10  -81.599998    59.799999  \n",
       "11 -154.699997   174.100006  \n",
       "12  106.099998   270.899994  \n",
       "13 -135.000000   667.299988  \n",
       "14 -164.899994    90.099998  \n",
       "15 -148.600006   120.000000  "
      ]
     },
     "execution_count": 12,
     "metadata": {},
     "output_type": "execute_result"
    }
   ],
   "source": [
    "df"
   ]
  },
  {
   "cell_type": "code",
   "execution_count": null,
   "id": "c6f11aae-fa2e-4041-bfa8-7648ba7113c4",
   "metadata": {},
   "outputs": [],
   "source": []
  }
 ],
 "metadata": {
  "kernelspec": {
   "display_name": "Python 3 (ipykernel)",
   "language": "python",
   "name": "python3"
  },
  "language_info": {
   "codemirror_mode": {
    "name": "ipython",
    "version": 3
   },
   "file_extension": ".py",
   "mimetype": "text/x-python",
   "name": "python",
   "nbconvert_exporter": "python",
   "pygments_lexer": "ipython3",
   "version": "3.7.13"
  }
 },
 "nbformat": 4,
 "nbformat_minor": 5
}
